{
 "cells": [
  {
   "cell_type": "markdown",
   "id": "44444623",
   "metadata": {},
   "source": [
    "## Set up Environment"
   ]
  },
  {
   "cell_type": "code",
   "execution_count": null,
   "id": "23897242",
   "metadata": {},
   "outputs": [],
   "source": [
    "from google.colab import drive\n",
    "drive.mount('/content/drive')\n",
    "\n",
    "%cd /content/drive/MyDrive/BMI702_project"
   ]
  },
  {
   "cell_type": "code",
   "execution_count": null,
   "id": "66030eac",
   "metadata": {},
   "outputs": [],
   "source": [
    "!pip install -r requirements.txt"
   ]
  },
  {
   "cell_type": "code",
   "execution_count": null,
   "id": "16c9898b",
   "metadata": {},
   "outputs": [],
   "source": [
    "!pip install pandas==2.0.0 gluonts sktime\n",
    "!pip install torchvision"
   ]
  },
  {
   "cell_type": "code",
   "execution_count": null,
   "id": "80ce6509",
   "metadata": {},
   "outputs": [],
   "source": [
    "import torch\n",
    "import torchvision \n",
    "import timm\n",
    "import wandb\n",
    "wandb.init() "
   ]
  },
  {
   "cell_type": "markdown",
   "id": "d7e7b3f6",
   "metadata": {},
   "source": [
    "## Classification"
   ]
  },
  {
   "cell_type": "code",
   "execution_count": null,
   "id": "f5e6350e",
   "metadata": {},
   "outputs": [],
   "source": [
    "!bash ./scripts/few_shot_newdata/UniTS_prompt_tuning_few_shot_newdata_classification_pct20.sh"
   ]
  },
  {
   "cell_type": "markdown",
   "id": "324c85b9",
   "metadata": {},
   "source": [
    "## Forecasting"
   ]
  },
  {
   "cell_type": "code",
   "execution_count": null,
   "id": "54aae126",
   "metadata": {},
   "outputs": [],
   "source": [
    "!bash ./scripts/few_shot_newdata/UniTS_prompt_tuning_few_shot_newdata_forecasting_pct20.sh"
   ]
  },
  {
   "cell_type": "markdown",
   "id": "6e2d44c2",
   "metadata": {},
   "source": [
    "## Imputation"
   ]
  },
  {
   "cell_type": "code",
   "execution_count": null,
   "id": "84c2e9d5",
   "metadata": {},
   "outputs": [],
   "source": [
    "!bash ./scripts/few_shot_imputation/UniTS_prompt_tuning_few_shot_imputation_mask025.sh"
   ]
  }
 ],
 "metadata": {
  "kernelspec": {
   "display_name": "bmi702_env",
   "language": "python",
   "name": "python3"
  },
  "language_info": {
   "name": "python",
   "version": "3.9.21"
  }
 },
 "nbformat": 4,
 "nbformat_minor": 5
}
